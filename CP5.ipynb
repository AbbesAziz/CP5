{
  "nbformat": 4,
  "nbformat_minor": 0,
  "metadata": {
    "colab": {
      "name": "CP5.ipynb",
      "provenance": []
    },
    "kernelspec": {
      "name": "python3",
      "display_name": "Python 3"
    },
    "language_info": {
      "name": "python"
    }
  },
  "cells": [
    {
      "cell_type": "code",
      "metadata": {
        "colab": {
          "base_uri": "https://localhost:8080/"
        },
        "id": "8wEX_p2nmNZb",
        "outputId": "ee3df415-9a44-4dd2-d3ce-5151a6d5dea5"
      },
      "source": [
        "import numpy as np\n",
        "arr = np.array([1,2,3,4])\n",
        "mylist = arr.tolist()\n",
        "print(mylist)"
      ],
      "execution_count": null,
      "outputs": [
        {
          "output_type": "stream",
          "text": [
            "[1, 2, 3, 4]\n"
          ],
          "name": "stdout"
        }
      ]
    },
    {
      "cell_type": "code",
      "metadata": {
        "colab": {
          "base_uri": "https://localhost:8080/"
        },
        "id": "vV3zzzwHnj8s",
        "outputId": "d5ba2e65-68b8-414e-b54c-ecd79d7be902"
      },
      "source": [
        "import numpy as np\n",
        "arr2 = np.array ([[0,1,2] ,[3,4,5] , [6,7,8]])\n",
        "diagonal= np.trace(arr2)\n",
        "print(diagonal)"
      ],
      "execution_count": null,
      "outputs": [
        {
          "output_type": "stream",
          "text": [
            "12\n"
          ],
          "name": "stdout"
        }
      ]
    },
    {
      "cell_type": "code",
      "metadata": {
        "colab": {
          "base_uri": "https://localhost:8080/"
        },
        "id": "PXyHI-bMrYN5",
        "outputId": "ca240c6a-de58-402d-c49d-42a93d069012"
      },
      "source": [
        "import numpy as np\n",
        "arr3 = np.array([[1,2],[3,5]])\n",
        "print(arr3[arr3>3])"
      ],
      "execution_count": null,
      "outputs": [
        {
          "output_type": "stream",
          "text": [
            "[5]\n"
          ],
          "name": "stdout"
        }
      ]
    },
    {
      "cell_type": "code",
      "metadata": {
        "colab": {
          "base_uri": "https://localhost:8080/"
        },
        "id": "O6mKD6fetBjU",
        "outputId": "80036d83-333a-46e6-9473-152b85df76b7"
      },
      "source": [
        "import numpy as np\n",
        "a = np.array([[1,2],[3,5]])\n",
        "b = np.array([[8,7],[6,4]])\n",
        "c = np.add(a,b)\n",
        "print(c)"
      ],
      "execution_count": null,
      "outputs": [
        {
          "output_type": "stream",
          "text": [
            "[[9 9]\n",
            " [9 9]]\n"
          ],
          "name": "stdout"
        }
      ]
    },
    {
      "cell_type": "code",
      "metadata": {
        "id": "mK9YOSuLtz-v",
        "colab": {
          "base_uri": "https://localhost:8080/"
        },
        "outputId": "8aa185a2-4bb2-4e14-f41c-56265f8c1c86"
      },
      "source": [
        "import numpy as np\n",
        "d = np.array ([[0,1,2] ,[3,4,5] , [6,7,8]])\n",
        "e = d - d.mean(axis=1)\n",
        "print(e)"
      ],
      "execution_count": 12,
      "outputs": [
        {
          "output_type": "stream",
          "text": [
            "[[-1. -3. -5.]\n",
            " [ 2.  0. -2.]\n",
            " [ 5.  3.  1.]]\n"
          ],
          "name": "stdout"
        }
      ]
    }
  ]
}